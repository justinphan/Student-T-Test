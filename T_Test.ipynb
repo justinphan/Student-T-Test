{
  "nbformat": 4,
  "nbformat_minor": 0,
  "metadata": {
    "colab": {
      "name": "T-Test.ipynb",
      "version": "0.3.2",
      "provenance": [],
      "include_colab_link": true
    },
    "kernelspec": {
      "name": "python3",
      "display_name": "Python 3"
    }
  },
  "cells": [
    {
      "cell_type": "markdown",
      "metadata": {
        "id": "view-in-github",
        "colab_type": "text"
      },
      "source": [
        "<a href=\"https://colab.research.google.com/github/justinphan/Student-T-Test/blob/master/T_Test.ipynb\" target=\"_parent\"><img src=\"https://colab.research.google.com/assets/colab-badge.svg\" alt=\"Open In Colab\"/></a>"
      ]
    },
    {
      "metadata": {
        "id": "VatSKoI-QKXw",
        "colab_type": "code",
        "colab": {}
      },
      "cell_type": "code",
      "source": [
        ""
      ],
      "execution_count": 0,
      "outputs": []
    },
    {
      "metadata": {
        "id": "BqPV5ju5phQr",
        "colab_type": "text"
      },
      "cell_type": "markdown",
      "source": [
        ""
      ]
    },
    {
      "metadata": {
        "id": "nSOFdyoZQOEU",
        "colab_type": "text"
      },
      "cell_type": "markdown",
      "source": [
        "Reference: https://towardsdatascience.com/inferential-statistics-series-t-test-using-numpy-2718f8f9bf2f\n",
        "\n",
        "https://www.khanacademy.org/math/ap-statistics/summarizing-quantitative-data-ap/more-standard-deviation/v/review-and-intuition-why-we-divide-by-n-1-for-the-unbiased-sample-variance\n",
        "\n",
        "https://www.statisticshowto.datasciencecentral.com/p-value/\n",
        "\n",
        "T-test (Student T's test) is one of the most popular procedures in statistics. \n",
        "The T Test compare two averages and tell how difference they are.\n",
        "\n",
        "Example 1: A drug company wants to test their new cancer drug to see how effective it is at improving life expectancy. The drug is tested on two groups. The first group called control group (they take placebo) have the average of life expectancy of 5+ and the second group given this new group have the life expectancy of 6+. So the scientist use the Student's t-test to know the probability of the results.\n",
        "\n",
        "Example 2: The next time you have a cold, you take a medicine. You do a survey on your friends and they all said they recover sooner after taking the medicine. You want to know if the effect happned by chance of it will repeated.\n",
        "\n",
        "**T-score**\n",
        "\n",
        "$tscore=\\frac{difference between two groups}{difference there is within the groups}$\n",
        "\n",
        "The higher tscore, the more difference between group and vice versa.\n",
        "\n",
        "Every t-value is paired with a p-value. **P-value** is written as a decimal. They tell if your data did not occur by chance. The lower p-value, the better. Usually the threshold is 0.05 to be considered valid data. For example, 0.02 indicates that there is 2% that the results happen by chance.\n",
        "\n",
        "3 types of t-test:\n",
        "\n",
        "\n",
        "1. **  Independent Sample t-test**: comparing means of two groups\n",
        "2.   **Paried sample t-test**: comparing means of same groups but at different times (say, one month apart)\n",
        "3. **One sample t-test**: comparing the mean against its known mean.\n",
        "\n",
        "Step:\n",
        "\n",
        "\n",
        "1.   Determine confidence interval $\\alpha$. The typical value of it is 0.05\n",
        "2.   Determine degree of freedom\n",
        "$df=n_x+n_y-2$\n",
        "3.   Calculate t-statistic:\n",
        "$\\frac{M_x-M_y}{\\sqrt{S_x^2/n_x+S_y^2/n_y}}$ \n",
        "M: mean; n= number of elements; S: unbiased deviation\n",
        "4.   Calculate t-value (calculated internally in the example below) and p-value\n",
        "\n",
        "\n",
        "\n",
        "\n",
        "\n",
        "\n",
        "\n",
        "\n",
        "\n",
        "\n"
      ]
    },
    {
      "metadata": {
        "id": "k3qNasocM6NK",
        "colab_type": "code",
        "colab": {
          "base_uri": "https://localhost:8080/",
          "height": 136
        },
        "outputId": "1026d583-c72a-46b4-bf15-494ce0458b75"
      },
      "cell_type": "code",
      "source": [
        "## Import the packages\n",
        "import numpy as np\n",
        "from scipy import stats\n",
        "\n",
        "\n",
        "## Define 2 random distributions\n",
        "#Sample Size\n",
        "N = 10\n",
        "#Gaussian distributed data with mean = 2 and var = 1\n",
        "a = np.random.randn(N) + 2\n",
        "#Gaussian distributed data with with mean = 0 and var = 1\n",
        "b = np.random.randn(N)\n",
        "\n",
        "\n",
        "## Calculate the Standard Deviation\n",
        "#Calculate the variance to get the standard deviation\n",
        "\n",
        "#For unbiased max likelihood estimate we have to divide the var by N-1, \n",
        "#and therefore the parameter ddof = 1\n",
        "var_a = a.var(ddof=1)\n",
        "var_b = b.var(ddof=1)\n",
        "\n",
        "#std deviation\n",
        "s = np.sqrt((var_a + var_b)/2)\n",
        "s\n",
        "\n",
        "\n",
        "\n",
        "## Calculate the t-statistics\n",
        "t = (a.mean() - b.mean())/(s*np.sqrt(2/N))\n",
        "\n",
        "print(t)\n",
        "\n",
        "## Compare with the critical t-value\n",
        "#Degrees of freedom\n",
        "df = 2*N - 2\n",
        "print(df)\n",
        "\n",
        "#p-value after comparison with the t \n",
        "print(stats.t.cdf(t,df=df))\n",
        "p = 1 - stats.t.cdf(t,df=df)\n",
        "\n",
        "\n",
        "print(\"t = \" + str(t))\n",
        "print(\"p = \" + str(2*p))\n",
        "### You can see that after comparing the t statistic \n",
        "## with the critical t value (computed internally) we get a good p value of 0.0005 and thus we reject the null hypothesis and thus it proves that the mean of the two distributions are different and statistically significant.\n",
        "\n",
        "\n",
        "## Cross Checking with the internal scipy function\n",
        "t2, p2 = stats.ttest_ind(a,b)\n",
        "print(\"t = \" + str(t2))\n",
        "print(\"p = \" + str(p2))"
      ],
      "execution_count": 5,
      "outputs": [
        {
          "output_type": "stream",
          "text": [
            "5.168290171760298\n",
            "18\n",
            "0.9999677040156773\n",
            "t = 5.168290171760298\n",
            "p = 6.459196864549988e-05\n",
            "t = 5.168290171760298\n",
            "p = 6.45919686454931e-05\n"
          ],
          "name": "stdout"
        }
      ]
    }
  ]
}